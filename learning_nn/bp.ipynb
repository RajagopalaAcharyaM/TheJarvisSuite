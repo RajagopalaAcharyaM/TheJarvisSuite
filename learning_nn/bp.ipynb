{
 "cells": [
  {
   "cell_type": "code",
   "execution_count": 1,
   "metadata": {},
   "outputs": [],
   "source": [
    "import math\n",
    "import numpy as np"
   ]
  },
  {
   "cell_type": "code",
   "execution_count": null,
   "metadata": {},
   "outputs": [],
   "source": [
    "class Value():\n",
    "    def __init__(self, data: float):\n",
    "        self.data = float(data)\n",
    "    \n",
    "    def __repr__(self):\n",
    "        print(f\"The value is {self.data}\")\n",
    "    \n",
    "    def __add__(self, other):\n",
    "        out = Value(self.data + other.data)\n",
    "        return out\n",
    "    \n",
    "    def __mul__(Self, other):\n",
    "        out = Value(Self.data + other.data)\n",
    "        return out"
   ]
  },
  {
   "cell_type": "code",
   "execution_count": null,
   "metadata": {},
   "outputs": [],
   "source": []
  }
 ],
 "metadata": {
  "kernelspec": {
   "display_name": "ML",
   "language": "python",
   "name": "python3"
  },
  "language_info": {
   "codemirror_mode": {
    "name": "ipython",
    "version": 3
   },
   "file_extension": ".py",
   "mimetype": "text/x-python",
   "name": "python",
   "nbconvert_exporter": "python",
   "pygments_lexer": "ipython3",
   "version": "3.9.21"
  }
 },
 "nbformat": 4,
 "nbformat_minor": 2
}
